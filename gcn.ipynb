{
  "nbformat": 4,
  "nbformat_minor": 0,
  "metadata": {
    "colab": {
      "provenance": [],
      "include_colab_link": true
    },
    "kernelspec": {
      "name": "python3",
      "display_name": "Python 3"
    },
    "language_info": {
      "name": "python"
    }
  },
  "cells": [
    {
      "cell_type": "markdown",
      "metadata": {
        "id": "view-in-github",
        "colab_type": "text"
      },
      "source": [
        "<a href=\"https://colab.research.google.com/github/tanvir-152/Thesis_Codes/blob/main/gcn.ipynb\" target=\"_parent\"><img src=\"https://colab.research.google.com/assets/colab-badge.svg\" alt=\"Open In Colab\"/></a>"
      ]
    },
    {
      "cell_type": "code",
      "source": [
        "from google.colab import drive\n",
        "drive.mount('/content/drive')\n",
        "\n",
        "%cd /content/drive/MyDrive"
      ],
      "metadata": {
        "id": "CWlnSYdZ67s1",
        "colab": {
          "base_uri": "https://localhost:8080/"
        },
        "outputId": "4e0808e1-22dc-4ac5-9029-238bb4b62e4e"
      },
      "execution_count": 1,
      "outputs": [
        {
          "output_type": "stream",
          "name": "stdout",
          "text": [
            "Mounted at /content/drive\n",
            "/content/drive/MyDrive\n"
          ]
        }
      ]
    },
    {
      "cell_type": "code",
      "source": [
        "from google.colab import drive\n",
        "drive.mount('/content/drive')"
      ],
      "metadata": {
        "colab": {
          "base_uri": "https://localhost:8080/"
        },
        "id": "vgj6sQ4z6O-m",
        "outputId": "dfa4b53f-73f8-4577-8029-15bfb8921e51"
      },
      "execution_count": 2,
      "outputs": [
        {
          "output_type": "stream",
          "name": "stdout",
          "text": [
            "Drive already mounted at /content/drive; to attempt to forcibly remount, call drive.mount(\"/content/drive\", force_remount=True).\n"
          ]
        }
      ]
    },
    {
      "cell_type": "code",
      "source": [
        "import numpy as np\n",
        "import tensorflow as tf\n",
        "import math\n",
        "\n",
        "def random_mini_batches_GCN(X, Y, L, mini_batch_size, seed):\n",
        "\n",
        "    m = X.shape[0]\n",
        "    mini_batches = []\n",
        "    np.random.seed(seed)\n",
        "\n",
        "    permutation = list(np.random.permutation(m))\n",
        "    shuffled_X = X[permutation, :]\n",
        "    shuffled_Y = Y[permutation, :].reshape((m, Y.shape[1]))\n",
        "    shuffled_L1 = L[permutation, :].reshape((L.shape[0], L.shape[1]), order = \"F\")\n",
        "    shuffled_L = shuffled_L1[:, permutation].reshape((L.shape[0], L.shape[1]), order = \"F\")\n",
        "\n",
        "    num_complete_minibatches = math.floor(m / mini_batch_size)\n",
        "\n",
        "    for k in range(0, num_complete_minibatches):\n",
        "        mini_batch_X = shuffled_X[k * mini_batch_size : k * mini_batch_size + mini_batch_size, :]\n",
        "        mini_batch_Y = shuffled_Y[k * mini_batch_size : k * mini_batch_size + mini_batch_size, :]\n",
        "        mini_batch_L = shuffled_L[k * mini_batch_size : k * mini_batch_size + mini_batch_size, k * mini_batch_size : k * mini_batch_size + mini_batch_size]\n",
        "        mini_batch = (mini_batch_X, mini_batch_Y, mini_batch_L)\n",
        "        mini_batches.append(mini_batch)\n",
        "    mini_batch = (X, Y, L)\n",
        "    mini_batches.append(mini_batch)\n",
        "\n",
        "    return mini_batches\n",
        "\n",
        "def random_mini_batches_GCN1(X, X1, Y, L, mini_batch_size, seed):\n",
        "\n",
        "    m = X.shape[0]\n",
        "    mini_batches = []\n",
        "    np.random.seed(seed)\n",
        "\n",
        "    permutation = list(np.random.permutation(m))\n",
        "    shuffled_X = X[permutation, :]\n",
        "    shuffled_X1 = X1[permutation, :]\n",
        "    shuffled_Y = Y[permutation, :].reshape((m, Y.shape[1]))\n",
        "    shuffled_L1 = L[permutation, :].reshape((L.shape[0], L.shape[1]), order = \"F\")\n",
        "    shuffled_L = shuffled_L1[:, permutation].reshape((L.shape[0], L.shape[1]), order = \"F\")\n",
        "\n",
        "    num_complete_minibatches = math.floor(m / mini_batch_size)\n",
        "\n",
        "    for k in range(0, num_complete_minibatches):\n",
        "        mini_batch_X = shuffled_X[k * mini_batch_size : k * mini_batch_size + mini_batch_size, :]\n",
        "        mini_batch_X1 = shuffled_X1[k * mini_batch_size : k * mini_batch_size + mini_batch_size, :]\n",
        "        mini_batch_Y = shuffled_Y[k * mini_batch_size : k * mini_batch_size + mini_batch_size, :]\n",
        "        mini_batch_L = shuffled_L[k * mini_batch_size : k * mini_batch_size + mini_batch_size, k * mini_batch_size : k * mini_batch_size + mini_batch_size]\n",
        "        mini_batch = (mini_batch_X, mini_batch_X1, mini_batch_Y, mini_batch_L)\n",
        "        mini_batches.append(mini_batch)\n",
        "    mini_batch = (X, X1, Y, L)\n",
        "    mini_batches.append(mini_batch)\n",
        "\n",
        "    return mini_batches\n",
        "\n",
        "def random_mini_batches(X1, X2, Y, mini_batch_size, seed):\n",
        "\n",
        "    m = X1.shape[0]\n",
        "    m1 = X2.shape[0]\n",
        "    mini_batches = []\n",
        "    np.random.seed(seed)\n",
        "\n",
        "    permutation = list(np.random.permutation(m))\n",
        "    shuffled_X1 = X1[permutation, :]\n",
        "    shuffled_Y = Y[permutation, :].reshape((m, Y.shape[1]))\n",
        "\n",
        "    permutation1 = list(np.random.permutation(m1))\n",
        "    shuffled_X2 = X2[permutation1, :]\n",
        "\n",
        "    num_complete_minibatches = math.floor(m1/mini_batch_size)\n",
        "\n",
        "    mini_batch_X1 = shuffled_X1\n",
        "    mini_batch_Y = shuffled_Y\n",
        "\n",
        "    for k in range(0, num_complete_minibatches):\n",
        "        mini_batch_X2 = shuffled_X2[k * mini_batch_size : k * mini_batch_size + mini_batch_size, :]\n",
        "        mini_batch = (mini_batch_X1, mini_batch_X2, mini_batch_Y)\n",
        "        mini_batches.append(mini_batch)\n",
        "\n",
        "    return mini_batches\n",
        "\n",
        "def random_mini_batches_single(X1, Y, mini_batch_size, seed):\n",
        "\n",
        "    m = X1.shape[0]\n",
        "    mini_batches = []\n",
        "    np.random.seed(seed)\n",
        "\n",
        "    permutation = list(np.random.permutation(m))\n",
        "    shuffled_X1 = X1[permutation, :]\n",
        "    #shuffled_X2 = X2[permutation, :]\n",
        "    shuffled_Y = Y[permutation, :].reshape((m, Y.shape[1]))\n",
        "\n",
        "    num_complete_minibatches = math.floor(m/mini_batch_size)\n",
        "\n",
        "    for k in range(0, num_complete_minibatches):\n",
        "        mini_batch_X1 = shuffled_X1[k * mini_batch_size : k * mini_batch_size + mini_batch_size, :]\n",
        "        mini_batch_Y = shuffled_Y[k * mini_batch_size : k * mini_batch_size + mini_batch_size, :]\n",
        "        mini_batch = (mini_batch_X1, mini_batch_Y)\n",
        "        mini_batches.append(mini_batch)\n",
        "\n",
        "    return mini_batches\n",
        "\n",
        "\n",
        "def convert_to_one_hot(Y, C):\n",
        "    Y = np.eye(C)[Y.reshape(-1)].T\n",
        "    return Y"
      ],
      "metadata": {
        "id": "wuDP9M9cygWH"
      },
      "execution_count": 3,
      "outputs": []
    },
    {
      "cell_type": "code",
      "source": [
        "\n",
        "#import library\n",
        "import numpy as np\n",
        "import matplotlib.pyplot as plt\n",
        "import tensorflow.compat.v1 as v1\n",
        "#tf.disable_v2_behavior()\n",
        "tf.compat.v1.disable_eager_execution()\n",
        "import tensorflow as tf\n",
        "import scipy.io as scio\n",
        "import scipy.io as sio\n",
        "#from tf_utils import random_mini_batches, convert_to_one_hot\n",
        "from tensorflow.python.framework import ops\n",
        "\n"
      ],
      "metadata": {
        "id": "2AUUuaopilRe"
      },
      "execution_count": 4,
      "outputs": []
    },
    {
      "cell_type": "code",
      "source": [
        "import keras\n",
        "\n",
        "print(keras.__version__)\n",
        "\n"
      ],
      "metadata": {
        "colab": {
          "base_uri": "https://localhost:8080/"
        },
        "id": "El7HzJ2z-982",
        "outputId": "605ea2a9-343e-4d9f-ee1d-9e32c818c904"
      },
      "execution_count": 5,
      "outputs": [
        {
          "output_type": "stream",
          "name": "stdout",
          "text": [
            "2.12.0\n"
          ]
        }
      ]
    },
    {
      "cell_type": "code",
      "source": [
        "def sample_mask(idx, l):\n",
        "    \"\"\"Create mask.\"\"\"\n",
        "    mask = np.zeros(l)\n",
        "    mask[idx] = 1\n",
        "    return np.array(mask, dtype=np.bool)"
      ],
      "metadata": {
        "id": "PokXx0S8QwLd"
      },
      "execution_count": 6,
      "outputs": []
    },
    {
      "cell_type": "code",
      "source": [
        "def create_placeholders(n_x, n_y):\n",
        "\n",
        "    isTraining = v1.placeholder_with_default(True, shape=())\n",
        "    x_in = v1.placeholder(tf.float32,  [None, n_x], name = \"x_in\")\n",
        "    y_in = v1.placeholder(tf.float32, [None, n_y], name = \"y_in\")\n",
        "    mask_train = v1.placeholder(tf.float32, name = \"mask_train\")\n",
        "    mask_test = v1.placeholder(tf.float32, name = \"mask_test\")\n",
        "    lap = v1.placeholder(tf.float32, [None, None], name = \"lap\")\n",
        "\n",
        "    return x_in, y_in, lap, mask_train, mask_test, isTraining"
      ],
      "metadata": {
        "id": "OTbQI92bQwJn"
      },
      "execution_count": 7,
      "outputs": []
    },
    {
      "cell_type": "code",
      "source": [
        "def initialize_parameters():\n",
        "\n",
        "    v1.set_random_seed(1)\n",
        "\n",
        "    x_w1 = v1.get_variable(\"x_w1\", [200,128], initializer = tf.keras.initializers.GlorotUniform(seed = 1))\n",
        "    x_b1 = v1.get_variable(\"x_b1\", [128], initializer = v1.zeros_initializer())\n",
        "\n",
        "    x_w2 = v1.get_variable(\"x_w2\", [128,16], initializer = tf.keras.initializers.GlorotUniform(seed = 1))\n",
        "    x_b2 = v1.get_variable(\"x_b2\", [16], initializer = v1.zeros_initializer())\n",
        "\n",
        "\n",
        "    parameters = {\"x_w1\": x_w1,\n",
        "                  \"x_b1\": x_b1,\n",
        "                  \"x_w2\": x_w2,\n",
        "                  \"x_b2\": x_b2}\n",
        "\n",
        "    return parameters\n"
      ],
      "metadata": {
        "id": "QAuAeCKAQwGu"
      },
      "execution_count": 8,
      "outputs": []
    },
    {
      "cell_type": "code",
      "source": [
        "def GCN_layer(x_in, L_, weights):\n",
        "\n",
        "    x_mid = tf.matmul(x_in, weights)\n",
        "    x_out = tf.matmul(L_, x_mid)\n",
        "\n",
        "    return x_out"
      ],
      "metadata": {
        "id": "yAaLRl5oQwE_"
      },
      "execution_count": 9,
      "outputs": []
    },
    {
      "cell_type": "code",
      "source": [
        "def mynetwork(x, parameters, Lap, isTraining, momentums = 0.9):\n",
        "\n",
        "    with tf.name_scope(\"x_layer_1\"):\n",
        "\n",
        "         x_z1_bn = v1.layers.batch_normalization(x, momentum = momentums, training = isTraining)\n",
        "         x_z1 = GCN_layer(x_z1_bn, Lap, parameters['x_w1']) + parameters['x_b1']\n",
        "         x_z1_bn = v1.layers.batch_normalization(x_z1, momentum = momentums, training = isTraining)\n",
        "         x_a1 = tf.nn.relu(x_z1_bn)\n",
        "\n",
        "    with tf.name_scope(\"x_layer_2\"):\n",
        "\n",
        "         x_z2_bn = v1.layers.batch_normalization(x_a1, momentum = momentums, training = isTraining)\n",
        "         x_z2 = GCN_layer(x_z2_bn, Lap, parameters['x_w2']) + parameters['x_b2']\n",
        "\n",
        "    l2_loss =  tf.nn.l2_loss(parameters['x_w1']) + tf.nn.l2_loss(parameters['x_w2'])\n",
        "\n",
        "    return x_z2, l2_loss"
      ],
      "metadata": {
        "id": "o9F65vdOQvzu"
      },
      "execution_count": 10,
      "outputs": []
    },
    {
      "cell_type": "code",
      "source": [
        "def mynetwork_optimaization(y_est, y_re, l2_loss, mask, reg, learning_rate, global_step):\n",
        "\n",
        "    with tf.name_scope(\"cost\"):\n",
        "         cost = (tf.nn.softmax_cross_entropy_with_logits(logits = y_est, labels = y_re)) +  reg * l2_loss\n",
        "         mask = tf.cast(mask, dtype = tf.float32)\n",
        "         mask /= tf.reduce_mean(mask)\n",
        "         cost *= mask\n",
        "         cost = tf.reduce_mean(cost) +  reg * l2_loss\n",
        "\n",
        "    with tf.name_scope(\"optimization\"):\n",
        "         update_ops = v1.get_collection(v1.GraphKeys.UPDATE_OPS)\n",
        "    with tf.control_dependencies(update_ops):\n",
        "         optimizer = v1.train.AdamOptimizer(learning_rate = learning_rate).minimize(cost,  global_step=global_step)\n",
        "         optimizer = v1.group([optimizer, update_ops])\n",
        "\n",
        "    return cost, optimizer"
      ],
      "metadata": {
        "id": "5uZpF0OrRO1b"
      },
      "execution_count": 11,
      "outputs": []
    },
    {
      "cell_type": "code",
      "source": [
        "def masked_accuracy(preds, labels, mask):\n",
        "\n",
        "      correct_prediction = tf.equal(tf.argmax(preds, 1), tf.argmax(labels, 1))\n",
        "      accuracy = tf.cast(correct_prediction, \"float\")\n",
        "      mask = tf.cast(mask, dtype = tf.float32)\n",
        "      mask /= tf.reduce_mean(mask)\n",
        "      accuracy *= mask\n",
        "\n",
        "      return tf.reduce_mean(accuracy)"
      ],
      "metadata": {
        "id": "mUXJmUeYROxl"
      },
      "execution_count": 12,
      "outputs": []
    },
    {
      "cell_type": "code",
      "source": [
        "def train_mynetwork(x_all, y_all, L_all, mask_in, mask_out, learning_rate = 0.001, beta_reg = 0.001, num_epochs = 200, print_cost = True):\n",
        "\n",
        "    ops.reset_default_graph()\n",
        "    (m, n_x) = x_all.shape\n",
        "    (m, n_y) = y_all.shape\n",
        "\n",
        "    costs = []\n",
        "    costs_dev = []\n",
        "    train_acc = []\n",
        "    val_acc = []\n",
        "\n",
        "    x_in, y_in, lap, mask_train, mask_test, isTraining = create_placeholders(n_x, n_y)\n",
        "\n",
        "    parameters = initialize_parameters()\n",
        "\n",
        "    with tf.name_scope(\"network\"):\n",
        "         x_out, l2_loss = mynetwork(x_in, parameters, lap, isTraining)\n",
        "\n",
        "    global_step = tf.Variable(0, trainable=False)\n",
        "\n",
        "    with tf.name_scope(\"optimization\"):\n",
        "         cost, optimizer = mynetwork_optimaization(x_out, y_in, l2_loss, mask_train, beta_reg, learning_rate, global_step)\n",
        "\n",
        "    with tf.name_scope(\"metrics\"):\n",
        "         accuracy_train = masked_accuracy(x_out, y_in, mask_train)\n",
        "         accuracy_test= masked_accuracy(x_out, y_in, mask_test)\n",
        "\n",
        "    init = v1.global_variables_initializer()\n",
        "\n",
        "    with v1.Session() as sess:\n",
        "\n",
        "        sess.run(init)\n",
        "        # Do the training loop\n",
        "        for epoch in range(num_epochs + 1):\n",
        "\n",
        "            _, epoch_cost, epoch_acc = sess.run([optimizer, cost, accuracy_train], feed_dict={x_in: x_all, y_in: y_all, lap: L_all, mask_train: mask_in, mask_test: mask_out, isTraining: True})\n",
        "\n",
        "            if print_cost == True and epoch % 50 == 0:\n",
        "                features, overall_cost_dev, overall_acc_dev = sess.run([x_out, cost, accuracy_test], feed_dict={x_in: x_all, y_in: y_all, lap: L_all, mask_train: mask_in, mask_test: mask_out, isTraining: False})\n",
        "                print (\"epoch %i: Train_loss: %f, Val_loss: %f, Train_acc: %f, Val_acc: %f\" % (epoch, epoch_cost, overall_cost_dev, epoch_acc, overall_acc_dev))\n",
        "\n",
        "            if print_cost == True and epoch % 5 == 0:\n",
        "                costs.append(epoch_cost)\n",
        "                train_acc.append(epoch_acc)\n",
        "                costs_dev.append(overall_cost_dev)\n",
        "                val_acc.append(overall_acc_dev)\n",
        "\n",
        "        # plot the cost\n",
        "        plt.plot(np.squeeze(costs))\n",
        "        plt.plot(np.squeeze(costs_dev))\n",
        "        plt.ylabel('cost')\n",
        "        plt.xlabel('iterations (per tens)')\n",
        "        plt.title(\"Learning rate =\" + str(learning_rate))\n",
        "        plt.show()\n",
        "        # plot the accuracy\n",
        "        plt.plot(np.squeeze(train_acc))\n",
        "        plt.plot(np.squeeze(val_acc))\n",
        "        plt.ylabel('accuracy')\n",
        "        plt.xlabel('iterations (per tens)')\n",
        "        plt.title(\"Learning rate =\" + str(learning_rate))\n",
        "        plt.show()\n",
        "\n",
        "        # lets save the parameters in a variable\n",
        "        parameters = sess.run(parameters)\n",
        "        print (\"Parameters have been trained!\")\n",
        "\n",
        "        return parameters , val_acc, features\n"
      ],
      "metadata": {
        "id": "a3mBpfODROv2"
      },
      "execution_count": 13,
      "outputs": []
    },
    {
      "cell_type": "code",
      "source": [
        "\n",
        "ALL_X = scio.loadmat('/content/drive/MyDrive/ALL_X.mat')\n",
        "ALL_Y = scio.loadmat('/content/drive/MyDrive/ALL_Y.mat')\n",
        "ALL_L = scio.loadmat('/content/drive/MyDrive/ALL_L.mat')\n",
        "\n",
        "ALL_L = ALL_L['ALL_L']\n",
        "ALL_X = ALL_X['ALL_X']\n",
        "ALL_Y = ALL_Y['ALL_Y']\n",
        "\n",
        "GCN_mask_TR = sample_mask(np.arange(695,2000), ALL_Y.shape[0])\n",
        "GCN_mask_TE = sample_mask(np.arange(696,10366), ALL_Y.shape[0])\n",
        "\n",
        "ALL_Y = convert_to_one_hot(ALL_Y - 1, 16)\n",
        "ALL_Y = ALL_Y.T\n",
        "\n",
        "\n",
        "parameters, val_acc, features = train_mynetwork(ALL_X, ALL_Y, ALL_L.todense(), GCN_mask_TR, GCN_mask_TE)\n",
        "sio.savemat('features.mat', {'features': features})\n"
      ],
      "metadata": {
        "colab": {
          "base_uri": "https://localhost:8080/",
          "height": 1000
        },
        "id": "jdzcYJN4RgQs",
        "outputId": "92e72e9d-2680-4ad2-9df2-89390d98cfe0"
      },
      "execution_count": 14,
      "outputs": [
        {
          "output_type": "stream",
          "name": "stderr",
          "text": [
            "<ipython-input-6-e5061697bc65>:5: DeprecationWarning: `np.bool` is a deprecated alias for the builtin `bool`. To silence this warning, use `bool` by itself. Doing this will not modify any behavior and is safe. If you specifically wanted the numpy scalar type, use `np.bool_` here.\n",
            "Deprecated in NumPy 1.20; for more details and guidance: https://numpy.org/devdocs/release/1.20.0-notes.html#deprecations\n",
            "  return np.array(mask, dtype=np.bool)\n",
            "<ipython-input-10-6e3bb4e63d84>:5: UserWarning: `tf.layers.batch_normalization` is deprecated and will be removed in a future version. Please use `tf.keras.layers.BatchNormalization` instead. In particular, `tf.control_dependencies(tf.GraphKeys.UPDATE_OPS)` should not be used (consult the `tf.keras.layers.BatchNormalization` documentation).\n",
            "  x_z1_bn = v1.layers.batch_normalization(x, momentum = momentums, training = isTraining)\n",
            "WARNING:tensorflow:From /usr/local/lib/python3.10/dist-packages/keras/layers/normalization/batch_normalization.py:581: _colocate_with (from tensorflow.python.framework.ops) is deprecated and will be removed in a future version.\n",
            "Instructions for updating:\n",
            "Colocations handled automatically by placer.\n",
            "<ipython-input-10-6e3bb4e63d84>:7: UserWarning: `tf.layers.batch_normalization` is deprecated and will be removed in a future version. Please use `tf.keras.layers.BatchNormalization` instead. In particular, `tf.control_dependencies(tf.GraphKeys.UPDATE_OPS)` should not be used (consult the `tf.keras.layers.BatchNormalization` documentation).\n",
            "  x_z1_bn = v1.layers.batch_normalization(x_z1, momentum = momentums, training = isTraining)\n",
            "<ipython-input-10-6e3bb4e63d84>:12: UserWarning: `tf.layers.batch_normalization` is deprecated and will be removed in a future version. Please use `tf.keras.layers.BatchNormalization` instead. In particular, `tf.control_dependencies(tf.GraphKeys.UPDATE_OPS)` should not be used (consult the `tf.keras.layers.BatchNormalization` documentation).\n",
            "  x_z2_bn = v1.layers.batch_normalization(x_a1, momentum = momentums, training = isTraining)\n"
          ]
        },
        {
          "output_type": "stream",
          "name": "stdout",
          "text": [
            "epoch 0: Train_loss: 4.633223, Val_loss: 2.620063, Train_acc: 0.007663, Val_acc: 0.231024\n",
            "epoch 50: Train_loss: 0.513281, Val_loss: 0.571579, Train_acc: 0.898851, Val_acc: 0.232678\n",
            "epoch 100: Train_loss: 0.404183, Val_loss: 0.424545, Train_acc: 0.927970, Val_acc: 0.240434\n",
            "epoch 150: Train_loss: 0.343033, Val_loss: 0.361378, Train_acc: 0.947127, Val_acc: 0.254912\n",
            "epoch 200: Train_loss: 0.300046, Val_loss: 0.312224, Train_acc: 0.961686, Val_acc: 0.254188\n"
          ]
        },
        {
          "output_type": "display_data",
          "data": {
            "text/plain": [
              "<Figure size 640x480 with 1 Axes>"
            ],
            "image/png": "[encoded data removed]"
          },
          "metadata": {}
        },
        {
          "output_type": "display_data",
          "data": {
            "text/plain": [
              "<Figure size 640x480 with 1 Axes>"
            ],
            "image/png": "[encoded data removed]"
          },
          "metadata": {}
        },
        {
          "output_type": "stream",
          "name": "stdout",
          "text": [
            "Parameters have been trained!\n"
          ]
        }
      ]
    }
  ]
}