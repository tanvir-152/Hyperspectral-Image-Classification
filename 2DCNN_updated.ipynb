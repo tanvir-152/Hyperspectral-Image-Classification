{
  "nbformat": 4,
  "nbformat_minor": 0,
  "metadata": {
    "colab": {
      "provenance": [],
      "include_colab_link": true
    },
    "kernelspec": {
      "name": "python3",
      "display_name": "Python 3"
    },
    "language_info": {
      "name": "python"
    },
    "gpuClass": "standard"
  },
  "cells": [
    {
      "cell_type": "markdown",
      "metadata": {
        "id": "view-in-github",
        "colab_type": "text"
      },
      "source": [
        "<a href=\"https://colab.research.google.com/github/tanvir-152/Thesis_Codes/blob/main/2DCNN_updated.ipynb\" target=\"_parent\"><img src=\"https://colab.research.google.com/assets/colab-badge.svg\" alt=\"Open In Colab\"/></a>"
      ]
    },
    {
      "cell_type": "code",
      "execution_count": null,
      "metadata": {
        "colab": {
          "base_uri": "https://localhost:8080/"
        },
        "id": "GBFou96q8TQi",
        "outputId": "792b8eff-6d4c-4cb9-bff6-52e43473c71f"
      },
      "outputs": [
        {
          "output_type": "stream",
          "name": "stdout",
          "text": [
            "Mounted at /content/drive\n"
          ]
        }
      ],
      "source": [
        "from google.colab import drive\n",
        "drive.mount('/content/drive')"
      ]
    },
    {
      "cell_type": "code",
      "source": [
        "%cd /content/drive/MyDrive"
      ],
      "metadata": {
        "colab": {
          "base_uri": "https://localhost:8080/"
        },
        "id": "oWtUoF3Q8a41",
        "outputId": "07568081-8fcb-41ee-a72b-cc6834b95635"
      },
      "execution_count": null,
      "outputs": [
        {
          "output_type": "stream",
          "name": "stdout",
          "text": [
            "/content/drive/MyDrive\n"
          ]
        }
      ]
    },
    {
      "cell_type": "code",
      "source": [
        "#pip install --upgrade pip"
      ],
      "metadata": {
        "id": "SVMjB5UL8gnf"
      },
      "execution_count": null,
      "outputs": []
    },
    {
      "cell_type": "code",
      "source": [
        "#pip install tensorflow-determinism"
      ],
      "metadata": {
        "id": "tUXS6Ahf8s09"
      },
      "execution_count": null,
      "outputs": []
    },
    {
      "cell_type": "code",
      "source": [
        "import numpy as np\n",
        "import matplotlib.pyplot as plt\n",
        "import tensorflow as tf\n",
        "import scipy.io as scio\n",
        "import scipy.io as sio\n",
        "import tensorflow.compat.v1 as v1\n",
        "\n",
        "# tf.disable_v2_behavior()"
      ],
      "metadata": {
        "id": "HQnSOQp28zml"
      },
      "execution_count": null,
      "outputs": []
    },
    {
      "cell_type": "code",
      "source": [
        "from tf_utils import random_mini_batches_single, convert_to_one_hot\n",
        "from tensorflow.python.framework import ops\n"
      ],
      "metadata": {
        "id": "N3GUw4sX82fD"
      },
      "execution_count": null,
      "outputs": []
    },
    {
      "cell_type": "code",
      "source": [
        "import seaborn as sn\n",
        "from sklearn.metrics import confusion_matrix"
      ],
      "metadata": {
        "id": "MDjivTLi855v"
      },
      "execution_count": null,
      "outputs": []
    },
    {
      "cell_type": "code",
      "source": [
        "def create_placeholders(n_x, n_y):\n",
        "\n",
        "    isTraining = v1.placeholder_with_default(True, shape=())\n",
        "    x = v1.placeholder(tf.float32, [None, n_x], name = \"x\")\n",
        "    y = v1.placeholder(tf.float32, [None, n_y], name = \"Y\")\n",
        "\n",
        "    return x, y, isTraining"
      ],
      "metadata": {
        "id": "810RzIQB9AlZ"
      },
      "execution_count": null,
      "outputs": []
    },
    {
      "cell_type": "code",
      "source": [
        "def initialize_parameters():\n",
        "\n",
        "\n",
        "    v1.set_random_seed(1)\n",
        "\n",
        "    x_w1 = v1.get_variable(\"x_w1\", [3,3,200,32], initializer =tf.initializers.GlorotUniform (seed = 1))\n",
        "    x_b1 = v1.get_variable(\"x_b1\", [32], initializer = v1.zeros_initializer())\n",
        "\n",
        "    x_w2 = v1.get_variable(\"x_w2\", [3,3,32,64], initializer = tf.initializers.GlorotUniform (seed = 1))\n",
        "    x_b2 = v1.get_variable(\"x_b2\", [64], initializer = v1.zeros_initializer())\n",
        "\n",
        "    x_w3 = v1.get_variable(\"x_w3\", [1,1,64,128], initializer = tf.initializers.GlorotUniform (seed = 1))\n",
        "    x_b3 = v1.get_variable(\"x_b3\", [128], initializer = v1.zeros_initializer())\n",
        "\n",
        "    x_w4 = v1.get_variable(\"x_w4\", [1,1,128,16], initializer = tf.initializers.GlorotUniform (seed = 1))\n",
        "    x_b4 = v1.get_variable(\"x_b4\", [16], initializer = v1.zeros_initializer())\n",
        "\n",
        "    parameters = {\"x_w1\": x_w1,\n",
        "                  \"x_b1\": x_b1,\n",
        "                  \"x_w2\": x_w2,\n",
        "                  \"x_b2\": x_b2,\n",
        "                  \"x_w3\": x_w3,\n",
        "                  \"x_b3\": x_b3,\n",
        "                  \"x_w4\": x_w4,\n",
        "                  \"x_b4\": x_b4}\n",
        "\n",
        "    return parameters"
      ],
      "metadata": {
        "id": "zHRCm3GV9ES0"
      },
      "execution_count": null,
      "outputs": []
    },
    {
      "cell_type": "code",
      "source": [
        "def mynetwork(x, parameters, isTraining, momentums = 0.9):\n",
        "\n",
        "    x = tf.reshape(x, [-1, 7, 7, 200], name = \"x\")\n",
        "\n",
        "    with tf.name_scope(\"x_layer_1\"):\n",
        "\n",
        "         x_z1 = tf.nn.conv2d(x, parameters['x_w1'], strides=[1, 1, 1, 1], padding='SAME') + parameters['x_b1']\n",
        "         x_z1_bn = v1.layers.batch_normalization(x_z1, momentum = momentums, training = isTraining)\n",
        "         x_z1_po = v1.layers.max_pooling2d(x_z1_bn, 2, 2, padding='SAME')\n",
        "         x_a1 = tf.nn.relu(x_z1_po)\n",
        "\n",
        "    with tf.name_scope(\"x_layer_2\"):\n",
        "\n",
        "         x_z2 = tf.nn.conv2d(x_a1, parameters['x_w2'], strides=[1, 1, 1, 1], padding='SAME') + parameters['x_b2']\n",
        "         x_z2_bn = v1.layers.batch_normalization(x_z2, momentum = momentums, training = isTraining)\n",
        "         x_z2_po = v1.layers.max_pooling2d(x_z2_bn, 2, 2, padding='SAME')\n",
        "         x_a2 = tf.nn.relu(x_z2_po)\n",
        "\n",
        "    with tf.name_scope(\"x_layer_3\"):\n",
        "\n",
        "         x_z3 = tf.nn.conv2d(x_a2, parameters['x_w3'], strides=[1, 1, 1, 1], padding='SAME') + parameters['x_b3']\n",
        "         x_z3_bn = v1.layers.batch_normalization(x_z3, momentum = momentums, training = isTraining)\n",
        "         x_z3_po = v1.layers.max_pooling2d(x_z3_bn, 2, 2, padding='SAME')\n",
        "         x_a3 = tf.nn.relu(x_z3_po)\n",
        "\n",
        "    with tf.name_scope(\"x_layer_4\"):\n",
        "\n",
        "         x_z4 = tf.nn.conv2d(x_a3, parameters['x_w4'], strides=[1, 1, 1, 1], padding='SAME') + parameters['x_b4']\n",
        "         x_z4_shape = x_z4.get_shape().as_list()\n",
        "         x_z4_2d = tf.reshape(x_z4, [-1, x_z4_shape[1] * x_z4_shape[2] * x_z4_shape[3]])\n",
        "\n",
        "\n",
        "    l2_loss =   tf.nn.l2_loss(parameters['x_w1']) + tf.nn.l2_loss(parameters['x_w2']) + tf.nn.l2_loss(parameters['x_w3'])\\\n",
        "                + tf.nn.l2_loss(parameters['x_w4'])\n",
        "\n",
        "    return x_z4_2d, l2_loss"
      ],
      "metadata": {
        "id": "4DlXQcgW9JjP"
      },
      "execution_count": null,
      "outputs": []
    },
    {
      "cell_type": "code",
      "source": [
        "def mynetwork_optimaization(y_es, y_re, l2_loss, reg, learning_rate, global_step):\n",
        "\n",
        "    with tf.name_scope(\"cost\"):\n",
        "\n",
        "         cost = tf.reduce_mean(tf.nn.softmax_cross_entropy_with_logits(logits = y_es, labels = y_re)) + reg * l2_loss\n",
        "\n",
        "    with tf.name_scope(\"optimization\"):\n",
        "         update_ops = v1.get_collection(v1.GraphKeys.UPDATE_OPS)\n",
        "    with tf.control_dependencies(update_ops):\n",
        "         optimizer = v1.train.AdamOptimizer(learning_rate = learning_rate).minimize(cost, global_step=global_step)\n",
        "         optimizer = v1.group([optimizer, update_ops])\n",
        "\n",
        "    return cost, optimizer"
      ],
      "metadata": {
        "id": "fAPhBiaH9Sft"
      },
      "execution_count": null,
      "outputs": []
    },
    {
      "cell_type": "code",
      "source": [
        "def confusion_mat(x_out, y_in):\n",
        "  x_cls = tf.transpose(x_out)\n",
        "  y_cls = tf.transpose(y_in)\n",
        "  x_cls = tf.argmax(x_out, 1)\n",
        "  # x_cls = tf.nn.embedding_lookup(np.identity(13), x_cls_)\n",
        "  # x_cls = convert_to_one_hot(np.array(x_cls)-1, 13)\n",
        "# TrLabel = TrLabel.T\n",
        "  y_cls = tf.argmax(y_in, 1)\n",
        "  confusion = v1.confusion_matrix(y_cls, x_cls, 16)\n",
        "  return x_cls, y_cls, confusion"
      ],
      "metadata": {
        "id": "ycbHUGHh9Ula"
      },
      "execution_count": null,
      "outputs": []
    },
    {
      "cell_type": "code",
      "source": [
        "def train_mynetwork(x_train_set, y_train_set, x_test_set, y_test_set, learning_rate_base = 0.001, beta_reg = 0.001, num_epochs = 200, minibatch_size = 32, print_cost = True):\n",
        "\n",
        "    ops.reset_default_graph()\n",
        "    v1.set_random_seed(1)\n",
        "    seed = 1\n",
        "    (m, n_x) = x_train_set.shape\n",
        "    (m, n_y) = y_train_set.shape\n",
        "\n",
        "    costs = []\n",
        "    costs_dev = []\n",
        "    train_acc = []\n",
        "    val_acc = []\n",
        "    correct_prediction = 0\n",
        "\n",
        "    # Create Placeholders of shape (n_x, n_y)\n",
        "    x, y, isTraining = create_placeholders(n_x, n_y)\n",
        "\n",
        "    # Initialize parameters\n",
        "    parameters = initialize_parameters()\n",
        "\n",
        "    with tf.name_scope(\"network\"):\n",
        "\n",
        "         x_out, l2_loss= mynetwork(x, parameters, isTraining)\n",
        "\n",
        "    global_step = tf.Variable(0, trainable = False)\n",
        "    learning_rate = v1.train.exponential_decay(learning_rate_base, global_step, 50 * m/minibatch_size, 0.5, staircase = True)\n",
        "\n",
        "    with tf.name_scope(\"optimization\"):\n",
        "         # network optimization\n",
        "         cost, optimizer = mynetwork_optimaization(x_out, y, l2_loss, beta_reg, learning_rate, global_step)\n",
        "\n",
        "    with tf.name_scope(\"metrics\"):\n",
        "         # Calculate the correct predictions\n",
        "         joint_layerT = tf.transpose(x_out)\n",
        "         yT = tf.transpose(y)\n",
        "         correct_prediction = tf.equal(tf.argmax(joint_layerT), tf.argmax(yT))\n",
        "         accuracy = tf.reduce_mean(tf.cast(correct_prediction, \"float\"))\n",
        "\n",
        "    with tf.name_scope(\"con\"):\n",
        "         x_cls, y_cls, confusion = confusion_mat(x_out,y)\n",
        "\n",
        "    # Initialize all the variables\n",
        "    init = v1.global_variables_initializer()\n",
        "\n",
        "    # Start the session to compute the tensorflow graph\n",
        "    with v1.Session() as sess:\n",
        "\n",
        "        # Run the initialization\n",
        "        sess.run(init)\n",
        "\n",
        "        # Do the training loop\n",
        "        for epoch in range(num_epochs + 1):\n",
        "\n",
        "            epoch_cost = 0.                       # Defines a cost related to an epoch\n",
        "            epoch_acc = 0.\n",
        "            num_minibatches = int(m / minibatch_size) # number of minibatches of size minibatch_size in the train set\n",
        "            seed = seed + 1\n",
        "            minibatches = random_mini_batches_single(x_train_set, y_train_set, minibatch_size, seed)\n",
        "            for minibatch in minibatches:\n",
        "\n",
        "                # Select a minibatch\n",
        "                (batch_x, batch_y) = minibatch\n",
        "                # IMPORTANT: The line that runs the graph on a minibatch.\n",
        "                # Run the session to execute the \"optimizer\" and the \"cost\", the feedict should contain a minibatch for (X,Y).\n",
        "                _, minibatch_cost, minibatch_acc = sess.run([optimizer, cost, accuracy], feed_dict={x: batch_x, y: batch_y, isTraining: True})\n",
        "\n",
        "                epoch_cost += minibatch_cost\n",
        "                epoch_acc += minibatch_acc\n",
        "\n",
        "            epoch_cost_train = epoch_cost / num_minibatches\n",
        "            epoch_acc_train = epoch_acc / num_minibatches\n",
        "\n",
        "            features, epoch_cost_dev, epoch_acc_dev = sess.run([x_out, cost, accuracy], feed_dict={x: x_test_set, y: y_test_set, isTraining: False})\n",
        "\n",
        "            # Print the cost every epoch\n",
        "            if print_cost == True and (epoch) % 50 == 0:\n",
        "                print (\"epoch %i: Train_loss: %f, Val_loss: %f, Train_acc: %f, Val_acc: %f\" % (epoch, epoch_cost_train, epoch_cost_dev, epoch_acc_train, epoch_acc_dev))\n",
        "            if print_cost == True and epoch % 5 == 0:\n",
        "                costs.append(epoch_cost_train)\n",
        "                train_acc.append(epoch_acc_train)\n",
        "                costs_dev.append(epoch_cost_dev)\n",
        "                val_acc.append(epoch_acc_dev)\n",
        "\n",
        "            if print_cost == True and epoch == 200:\n",
        "                # con_mat =\n",
        "                x, y, confusion = sess.run([x_cls, y_cls, confusion], feed_dict={x: x_test_set, y: y_test_set, isTraining: False})\n",
        "                # print(x.shape)\n",
        "                # print(y.shape)\n",
        "                # print(confusion)\n",
        "\n",
        "        # plot the cost\n",
        "        plt.plot(np.squeeze(costs))\n",
        "        plt.plot(np.squeeze(costs_dev))\n",
        "        plt.ylabel('cost')\n",
        "        plt.xlabel('iterations (per tens)')\n",
        "        plt.title(\"Learning rate =\" + str(learning_rate))\n",
        "        plt.show()\n",
        "        # plot the accuracy\n",
        "        plt.plot(np.squeeze(train_acc))\n",
        "        plt.plot(np.squeeze(val_acc))\n",
        "        plt.ylabel('accuracy')\n",
        "        plt.xlabel('iterations (per tens)')\n",
        "        plt.title(\"Learning rate =\" + str(learning_rate))\n",
        "        plt.show()\n",
        "\n",
        "        # lets save the parameters in a variable\n",
        "        parameters = sess.run(parameters)\n",
        "        print (\"Parameters have been trained!\")\n",
        "\n",
        "        return parameters, val_acc, features"
      ],
      "metadata": {
        "id": "MOlJicSi9XYF"
      },
      "execution_count": null,
      "outputs": []
    },
    {
      "cell_type": "code",
      "source": [
        "X_train = scio.loadmat('HSI_CNN/X_train.mat')\n",
        "Y_train = scio.loadmat('HSI_CNN/Y_train.mat')"
      ],
      "metadata": {
        "id": "3sc1AiRE9erP"
      },
      "execution_count": null,
      "outputs": []
    },
    {
      "cell_type": "code",
      "source": [
        "X_test = scio.loadmat('HSI_CNN/X_test.mat')\n",
        "Y_test = scio.loadmat('HSI_CNN/Y_test.mat')"
      ],
      "metadata": {
        "id": "OyTEOrsf9jSu"
      },
      "execution_count": null,
      "outputs": []
    },
    {
      "cell_type": "code",
      "source": [
        "X_train = X_train['X_train']\n",
        "Y_train = Y_train['Y_train']\n",
        "X_test = X_test['X_test']\n",
        "Y_test = Y_test['Y_test']"
      ],
      "metadata": {
        "id": "ZOSoJVck9mfj"
      },
      "execution_count": null,
      "outputs": []
    },
    {
      "cell_type": "code",
      "source": [
        "Y_train = convert_to_one_hot(Y_train-1, 16)\n",
        "Y_test = convert_to_one_hot(Y_test-1, 16)"
      ],
      "metadata": {
        "id": "2WuKT0mi9qPL"
      },
      "execution_count": null,
      "outputs": []
    },
    {
      "cell_type": "code",
      "source": [
        "Y_train = Y_train.T\n",
        "Y_test = Y_test.T"
      ],
      "metadata": {
        "id": "0AdQW9199weK"
      },
      "execution_count": null,
      "outputs": []
    },
    {
      "cell_type": "code",
      "source": [
        "v1.disable_eager_execution()"
      ],
      "metadata": {
        "id": "AXxNJt6ET1cS"
      },
      "execution_count": null,
      "outputs": []
    },
    {
      "cell_type": "code",
      "source": [
        "parameters, val_acc, features = train_mynetwork(X_train, Y_train, X_test, Y_test)\n",
        "sio.savemat('features.mat', {'features': features})"
      ],
      "metadata": {
        "colab": {
          "base_uri": "https://localhost:8080/",
          "height": 1000
        },
        "id": "BQDyNBk6T3en",
        "outputId": "ae81c03d-9318-42c6-91e5-5a40235eafdd"
      },
      "execution_count": null,
      "outputs": [
        {
          "output_type": "stream",
          "name": "stderr",
          "text": [
            "<ipython-input-9-e9cd77b82606>:8: UserWarning: `tf.layers.batch_normalization` is deprecated and will be removed in a future version. Please use `tf.keras.layers.BatchNormalization` instead. In particular, `tf.control_dependencies(tf.GraphKeys.UPDATE_OPS)` should not be used (consult the `tf.keras.layers.BatchNormalization` documentation).\n",
            "  x_z1_bn = v1.layers.batch_normalization(x_z1, momentum = momentums, training = isTraining)\n",
            "WARNING:tensorflow:From /usr/local/lib/python3.10/dist-packages/keras/layers/normalization/batch_normalization.py:581: _colocate_with (from tensorflow.python.framework.ops) is deprecated and will be removed in a future version.\n",
            "Instructions for updating:\n",
            "Colocations handled automatically by placer.\n",
            "<ipython-input-9-e9cd77b82606>:9: UserWarning: `tf.layers.max_pooling2d` is deprecated and will be removed in a future version. Please use `tf.keras.layers.MaxPooling2D` instead.\n",
            "  x_z1_po = v1.layers.max_pooling2d(x_z1_bn, 2, 2, padding='SAME')\n",
            "<ipython-input-9-e9cd77b82606>:15: UserWarning: `tf.layers.batch_normalization` is deprecated and will be removed in a future version. Please use `tf.keras.layers.BatchNormalization` instead. In particular, `tf.control_dependencies(tf.GraphKeys.UPDATE_OPS)` should not be used (consult the `tf.keras.layers.BatchNormalization` documentation).\n",
            "  x_z2_bn = v1.layers.batch_normalization(x_z2, momentum = momentums, training = isTraining)\n",
            "<ipython-input-9-e9cd77b82606>:16: UserWarning: `tf.layers.max_pooling2d` is deprecated and will be removed in a future version. Please use `tf.keras.layers.MaxPooling2D` instead.\n",
            "  x_z2_po = v1.layers.max_pooling2d(x_z2_bn, 2, 2, padding='SAME')\n",
            "<ipython-input-9-e9cd77b82606>:22: UserWarning: `tf.layers.batch_normalization` is deprecated and will be removed in a future version. Please use `tf.keras.layers.BatchNormalization` instead. In particular, `tf.control_dependencies(tf.GraphKeys.UPDATE_OPS)` should not be used (consult the `tf.keras.layers.BatchNormalization` documentation).\n",
            "  x_z3_bn = v1.layers.batch_normalization(x_z3, momentum = momentums, training = isTraining)\n",
            "<ipython-input-9-e9cd77b82606>:23: UserWarning: `tf.layers.max_pooling2d` is deprecated and will be removed in a future version. Please use `tf.keras.layers.MaxPooling2D` instead.\n",
            "  x_z3_po = v1.layers.max_pooling2d(x_z3_bn, 2, 2, padding='SAME')\n"
          ]
        },
        {
          "output_type": "stream",
          "name": "stdout",
          "text": [
            "epoch 0: Train_loss: 2.133400, Val_loss: 2.514567, Train_acc: 0.343750, Val_acc: 0.118705\n",
            "epoch 50: Train_loss: 0.131607, Val_loss: 1.130743, Train_acc: 0.998512, Val_acc: 0.701685\n",
            "epoch 100: Train_loss: 0.097235, Val_loss: 0.934562, Train_acc: 1.000000, Val_acc: 0.770655\n",
            "epoch 150: Train_loss: 0.083692, Val_loss: 0.960262, Train_acc: 1.000000, Val_acc: 0.765278\n",
            "epoch 200: Train_loss: 0.073837, Val_loss: 0.975975, Train_acc: 1.000000, Val_acc: 0.764140\n"
          ]
        },
        {
          "output_type": "display_data",
          "data": {
            "text/plain": [
              "<Figure size 640x480 with 1 Axes>"
            ],
            "image/png": "[encoded data removed]"
          },
          "metadata": {}
        },
        {
          "output_type": "display_data",
          "data": {
            "text/plain": [
              "<Figure size 640x480 with 1 Axes>"
            ],
            "image/png": "[encoded data removed]"
          },
          "metadata": {}
        },
        {
          "output_type": "stream",
          "name": "stdout",
          "text": [
            "Parameters have been trained!\n"
          ]
        }
      ]
    }
  ]
}