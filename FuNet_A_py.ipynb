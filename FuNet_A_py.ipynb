{
  "cells": [
    {
      "cell_type": "markdown",
      "metadata": {
        "id": "view-in-github",
        "colab_type": "text"
      },
      "source": [
        "<a href=\"https://colab.research.google.com/github/tanvir-152/Thesis_Codes/blob/main/FuNet_A_py.ipynb\" target=\"_parent\"><img src=\"https://colab.research.google.com/assets/colab-badge.svg\" alt=\"Open In Colab\"/></a>"
      ]
    },
    {
      "cell_type": "markdown",
      "source": [
        "*   For Indian Pines\n",
        "*   Addition Fusion Model of Base Paper\n",
        "\n",
        "  OA:  0.7959\n",
        "\n",
        "  AA: 0.8857  \n",
        "  \n",
        "  K: 0.7684"
      ],
      "metadata": {
        "id": "OHkwJey4l0Fj"
      }
    },
    {
      "cell_type": "code",
      "execution_count": null,
      "metadata": {
        "colab": {
          "base_uri": "https://localhost:8080/"
        },
        "id": "y5qxmsBUx9Dh",
        "outputId": "782d87e2-3c6d-4f5b-c452-ea256589a8a4"
      },
      "outputs": [
        {
          "output_type": "stream",
          "name": "stdout",
          "text": [
            "Drive already mounted at /content/drive; to attempt to forcibly remount, call drive.mount(\"/content/drive\", force_remount=True).\n",
            "/content/drive/MyDrive/thesis_code\n"
          ]
        }
      ],
      "source": [
        "from google.colab import drive\n",
        "drive.mount('/content/drive')\n",
        "%cd /content/drive/MyDrive/thesis_code"
      ]
    },
    {
      "cell_type": "code",
      "execution_count": null,
      "metadata": {
        "colab": {
          "base_uri": "https://localhost:8080/"
        },
        "id": "RB_E3CQe1BqU",
        "outputId": "15a65608-1cf6-4303-bcb0-b45997951209"
      },
      "outputs": [
        {
          "output_type": "stream",
          "name": "stdout",
          "text": [
            "Looking in indexes: https://pypi.org/simple, https://us-python.pkg.dev/colab-wheels/public/simple/\n",
            "Requirement already satisfied: gast==0.2.2 in /usr/local/lib/python3.7/dist-packages (0.2.2)\n",
            "Looking in indexes: https://pypi.org/simple, https://us-python.pkg.dev/colab-wheels/public/simple/\n",
            "Requirement already satisfied: tensorflow==1.14 in /usr/local/lib/python3.7/dist-packages (1.14.0)\n",
            "Requirement already satisfied: absl-py>=0.7.0 in /usr/local/lib/python3.7/dist-packages (from tensorflow==1.14) (1.3.0)\n",
            "Requirement already satisfied: wheel>=0.26 in /usr/local/lib/python3.7/dist-packages (from tensorflow==1.14) (0.37.1)\n",
            "Requirement already satisfied: keras-preprocessing>=1.0.5 in /usr/local/lib/python3.7/dist-packages (from tensorflow==1.14) (1.1.2)\n",
            "Requirement already satisfied: google-pasta>=0.1.6 in /usr/local/lib/python3.7/dist-packages (from tensorflow==1.14) (0.2.0)\n",
            "Requirement already satisfied: tensorboard<1.15.0,>=1.14.0 in /usr/local/lib/python3.7/dist-packages (from tensorflow==1.14) (1.14.0)\n",
            "Requirement already satisfied: astor>=0.6.0 in /usr/local/lib/python3.7/dist-packages (from tensorflow==1.14) (0.8.1)\n",
            "Requirement already satisfied: gast>=0.2.0 in /usr/local/lib/python3.7/dist-packages (from tensorflow==1.14) (0.2.2)\n",
            "Requirement already satisfied: six>=1.10.0 in /usr/local/lib/python3.7/dist-packages (from tensorflow==1.14) (1.15.0)\n",
            "Requirement already satisfied: termcolor>=1.1.0 in /usr/local/lib/python3.7/dist-packages (from tensorflow==1.14) (2.0.1)\n",
            "Requirement already satisfied: numpy<2.0,>=1.14.5 in /usr/local/lib/python3.7/dist-packages (from tensorflow==1.14) (1.21.6)\n",
            "Requirement already satisfied: tensorflow-estimator<1.15.0rc0,>=1.14.0rc0 in /usr/local/lib/python3.7/dist-packages (from tensorflow==1.14) (1.14.0)\n",
            "Requirement already satisfied: protobuf>=3.6.1 in /usr/local/lib/python3.7/dist-packages (from tensorflow==1.14) (3.17.3)\n",
            "Requirement already satisfied: grpcio>=1.8.6 in /usr/local/lib/python3.7/dist-packages (from tensorflow==1.14) (1.49.1)\n",
            "Requirement already satisfied: keras-applications>=1.0.6 in /usr/local/lib/python3.7/dist-packages (from tensorflow==1.14) (1.0.8)\n",
            "Requirement already satisfied: wrapt>=1.11.1 in /usr/local/lib/python3.7/dist-packages (from tensorflow==1.14) (1.14.1)\n",
            "Requirement already satisfied: h5py in /usr/local/lib/python3.7/dist-packages (from keras-applications>=1.0.6->tensorflow==1.14) (3.1.0)\n",
            "Requirement already satisfied: setuptools>=41.0.0 in /usr/local/lib/python3.7/dist-packages (from tensorboard<1.15.0,>=1.14.0->tensorflow==1.14) (57.4.0)\n",
            "Requirement already satisfied: markdown>=2.6.8 in /usr/local/lib/python3.7/dist-packages (from tensorboard<1.15.0,>=1.14.0->tensorflow==1.14) (3.4.1)\n",
            "Requirement already satisfied: werkzeug>=0.11.15 in /usr/local/lib/python3.7/dist-packages (from tensorboard<1.15.0,>=1.14.0->tensorflow==1.14) (1.0.1)\n",
            "Requirement already satisfied: importlib-metadata>=4.4 in /usr/local/lib/python3.7/dist-packages (from markdown>=2.6.8->tensorboard<1.15.0,>=1.14.0->tensorflow==1.14) (4.13.0)\n",
            "Requirement already satisfied: zipp>=0.5 in /usr/local/lib/python3.7/dist-packages (from importlib-metadata>=4.4->markdown>=2.6.8->tensorboard<1.15.0,>=1.14.0->tensorflow==1.14) (3.9.0)\n",
            "Requirement already satisfied: typing-extensions>=3.6.4 in /usr/local/lib/python3.7/dist-packages (from importlib-metadata>=4.4->markdown>=2.6.8->tensorboard<1.15.0,>=1.14.0->tensorflow==1.14) (4.1.1)\n",
            "Requirement already satisfied: cached-property in /usr/local/lib/python3.7/dist-packages (from h5py->keras-applications>=1.0.6->tensorflow==1.14) (1.5.2)\n",
            "Looking in indexes: https://pypi.org/simple, https://us-python.pkg.dev/colab-wheels/public/simple/\n",
            "Requirement already satisfied: tensorflow-determinism in /usr/local/lib/python3.7/dist-packages (0.3.0)\n"
          ]
        }
      ],
      "source": [
        "!pip install -U gast==0.2.2\n",
        "!pip install tensorflow==1.14\n",
        "!pip install tensorflow-determinism"
      ]
    },
    {
      "cell_type": "code",
      "execution_count": null,
      "metadata": {
        "id": "8VdlblBz4J0I"
      },
      "outputs": [],
      "source": [
        "def confusion_mat(x_out, y_in):\n",
        "  x_cls = tf.transpose(x_out)\n",
        "  y_cls = tf.transpose(y_in)\n",
        "  x_cls = tf.argmax(x_out, 1)\n",
        "  # x_cls = tf.nn.embedding_lookup(np.identity(16), x_cls_)\n",
        "  # x_cls = convert_to_one_hot(np.array(x_cls)-1, 16)\n",
        "# TrLabel = TrLabel.T\n",
        "  y_cls = tf.argmax(y_in, 1)\n",
        "  confusion = tf.confusion_matrix(y_cls, x_cls, 16)\n",
        "  return x_cls, y_cls, confusion"
      ]
    },
    {
      "cell_type": "code",
      "execution_count": null,
      "metadata": {
        "colab": {
          "base_uri": "https://localhost:8080/"
        },
        "id": "lAoEsTTI1eUy",
        "outputId": "4bcf5715-8368-4172-9c1f-e8d183a470dd"
      },
      "outputs": [
        {
          "output_type": "stream",
          "name": "stderr",
          "text": [
            "TensorFlow version 1.14.0 has been patched using tfdeterminism version 0.3.0\n"
          ]
        }
      ],
      "source": [
        "\n",
        "\"\"\"\n",
        "@author: danfeng\n",
        "\"\"\"\n",
        "#import library\n",
        "import numpy as np\n",
        "import matplotlib.pyplot as plt\n",
        "import tensorflow as tf\n",
        "import scipy.io as scio\n",
        "import scipy.io as sio\n",
        "from tf_utils import random_mini_batches_GCN1, convert_to_one_hot\n",
        "from tensorflow.python.framework import ops\n",
        "from tfdeterminism import patch\n",
        "patch()\n",
        "\n",
        "def sample_mask(idx, l):\n",
        "    \"\"\"Create mask.\"\"\"\n",
        "    mask = np.zeros(l)\n",
        "    mask[idx] = 1\n",
        "    return np.array(mask, dtype=np.bool)\n",
        "\n",
        "def create_placeholders(n_x, n_x1, n_y):\n",
        "\n",
        "    isTraining = tf.placeholder_with_default(True, shape=())\n",
        "    x_in = tf.placeholder(tf.float32,  [None, n_x], name = \"x_in\")\n",
        "    x_in1 = tf.placeholder(tf.float32,  [None, n_x1], name = \"x_in1\")\n",
        "    y_in = tf.placeholder(tf.float32, [None, n_y], name = \"y_in\")\n",
        "    lap_train = tf.placeholder(tf.float32, [None, None], name = \"lap_train\")\n",
        "\n",
        "    return x_in, x_in1, y_in, lap_train, isTraining\n",
        "\n",
        "def initialize_parameters():\n",
        "\n",
        "    tf.set_random_seed(1)\n",
        "\n",
        "    x_w1 = tf.get_variable(\"x_w1\", [200,128], initializer = tf.contrib.layers.xavier_initializer(seed = 1))\n",
        "    x_b1 = tf.get_variable(\"x_b1\", [128], initializer = tf.zeros_initializer())\n",
        "\n",
        "    x_jw1 = tf.get_variable(\"x_jw1\", [128,128], initializer = tf.contrib.layers.xavier_initializer(seed = 1))\n",
        "    x_jb1 = tf.get_variable(\"x_jb1\", [128], initializer = tf.zeros_initializer())\n",
        "\n",
        "    x_jw2 = tf.get_variable(\"x_jw2\", [128,16], initializer = tf.contrib.layers.xavier_initializer(seed = 1))\n",
        "    x_jb2 = tf.get_variable(\"x_jb2\", [16], initializer = tf.zeros_initializer())\n",
        "\n",
        "    x_conv_w1 = tf.get_variable(\"x_conv_w1\", [3,3,200,32], initializer = tf.contrib.layers.xavier_initializer(seed = 1))\n",
        "    x_conv_b1 = tf.get_variable(\"x_conv_b1\", [32], initializer = tf.zeros_initializer())\n",
        "\n",
        "    x_conv_w2 = tf.get_variable(\"x_conv_w2\", [3,3,32,64], initializer = tf.contrib.layers.xavier_initializer(seed = 1))\n",
        "    x_conv_b2 = tf.get_variable(\"x_conv_b2\", [64], initializer = tf.zeros_initializer())\n",
        "\n",
        "    x_conv_w3 = tf.get_variable(\"x_conv_w3\", [1,1,64,128], initializer = tf.contrib.layers.xavier_initializer(seed = 1))\n",
        "    x_conv_b3 = tf.get_variable(\"x_conv_b3\", [128], initializer = tf.zeros_initializer())\n",
        "\n",
        "    parameters = {\"x_w1\": x_w1,\n",
        "                  \"x_b1\": x_b1,\n",
        "                  \"x_jw1\": x_jw1,\n",
        "                  \"x_jb1\": x_jb1,\n",
        "                  \"x_jw2\": x_jw2,\n",
        "                  \"x_jb2\": x_jb2,\n",
        "                  \"x_conv_w1\": x_conv_w1,\n",
        "                  \"x_conv_b1\": x_conv_b1,\n",
        "                  \"x_conv_w2\": x_conv_w2,\n",
        "                  \"x_conv_b2\": x_conv_b2,\n",
        "                  \"x_conv_w3\": x_conv_w3,\n",
        "                  \"x_conv_b3\": x_conv_b3}\n",
        "\n",
        "    return parameters\n",
        "\n",
        "def GCN_layer(x_in, L_, weights):\n",
        "\n",
        "    x_mid = tf.matmul(x_in, weights)\n",
        "    x_out = tf.matmul(L_, x_mid)\n",
        "\n",
        "    return x_out\n",
        "\n",
        "def mynetwork(x, x1, parameters, Lap, isTraining, momentums = 0.9):\n",
        "\n",
        "    x1 = tf.reshape(x1, [-1, 7, 7, 200], name = \"x1\")\n",
        "\n",
        "    with tf.name_scope(\"x_layer_1\"):\n",
        "\n",
        "         x_z1_bn = tf.layers.batch_normalization(x, momentum = momentums, training = isTraining)\n",
        "         x_z1 = GCN_layer(x_z1_bn, Lap, parameters['x_w1']) + parameters['x_b1']\n",
        "         x_z1_bn = tf.layers.batch_normalization(x_z1, momentum = momentums, training = isTraining)\n",
        "         x_a1 = tf.nn.relu(x_z1_bn)\n",
        "\n",
        "         x_conv_z1 = tf.nn.conv2d(x1, parameters['x_conv_w1'], strides=[1, 1, 1, 1], padding='SAME') + parameters['x_conv_b1']\n",
        "         x_conv_z1_bn = tf.layers.batch_normalization(x_conv_z1, momentum = momentums, training = isTraining)\n",
        "         x_conv_z1_po = tf.layers.max_pooling2d(x_conv_z1_bn, 2, 2, padding='SAME')\n",
        "         x_conv_a1 = tf.nn.relu(x_conv_z1_po)\n",
        "\n",
        "    with tf.name_scope(\"x_layer_2\"):\n",
        "\n",
        "         x_conv_z2 = tf.nn.conv2d(x_conv_a1, parameters['x_conv_w2'], strides=[1, 1, 1, 1], padding='SAME') + parameters['x_conv_b2']\n",
        "         x_conv_z2_bn = tf.layers.batch_normalization(x_conv_z2, momentum = momentums, training = isTraining)\n",
        "         x_conv_z2_po = tf.layers.max_pooling2d(x_conv_z2_bn, 2, 2, padding='SAME')\n",
        "         x_conv_a2 = tf.nn.relu(x_conv_z2_po)\n",
        "\n",
        "    with tf.name_scope(\"x_layer_3\"):\n",
        "\n",
        "         x_conv_z3 = tf.nn.conv2d(x_conv_a2, parameters['x_conv_w3'], strides=[1, 1, 1, 1], padding='SAME') + parameters['x_conv_b3']\n",
        "         x_conv_z3_bn = tf.layers.batch_normalization(x_conv_z3, momentum = momentums, training = isTraining)\n",
        "         x_conv_z3_po = tf.layers.max_pooling2d(x_conv_z3_bn, 2, 2, padding='SAME')\n",
        "         x_conv_a3 = tf.nn.relu(x_conv_z3_po)\n",
        "\n",
        "         x_conv_a3_shape = x_conv_a3.get_shape().as_list()\n",
        "         x_conv_z3_2d = tf.reshape(x_conv_a3, [-1, x_conv_a3_shape[1] * x_conv_a3_shape[2] * x_conv_a3_shape[3]])\n",
        "\n",
        "         joint_encoder_layer = x_a1 + x_conv_z3_2d\n",
        "\n",
        "    with tf.name_scope(\"x_joint_layer_1\"):\n",
        "\n",
        "         x_zj1 = tf.matmul(joint_encoder_layer, parameters['x_jw1']) + parameters['x_jb1']\n",
        "         x_zj1_bn = tf.layers.batch_normalization(x_zj1, momentum = momentums, training = isTraining)\n",
        "         x_aj1 = tf.nn.relu(x_zj1_bn)\n",
        "\n",
        "    with tf.name_scope(\"x_layer_4\"):\n",
        "         x_zj2 = tf.matmul(x_aj1, parameters['x_jw2']) + parameters['x_jb2']\n",
        "\n",
        "    l2_loss =  tf.nn.l2_loss(parameters['x_w1']) + tf.nn.l2_loss(parameters['x_jw1']) + tf.nn.l2_loss(parameters['x_jw2'])\\\n",
        "               + tf.nn.l2_loss(parameters['x_conv_w1']) + tf.nn.l2_loss(parameters['x_conv_w2'])  + tf.nn.l2_loss(parameters['x_conv_w3'])\n",
        "\n",
        "    return x_zj2, l2_loss\n",
        "\n",
        "def mynetwork_optimaization(y_est, y_re, l2_loss, reg, learning_rate, global_step):\n",
        "\n",
        "    y_re = tf.squeeze(y_re, name = 'y_re')\n",
        "\n",
        "    with tf.name_scope(\"cost\"):\n",
        "         cost = tf.reduce_mean(tf.nn.softmax_cross_entropy_with_logits(logits = y_est, labels = y_re)) +  reg * l2_loss\n",
        "\n",
        "    with tf.name_scope(\"optimization\"):\n",
        "         update_ops = tf.get_collection(tf.GraphKeys.UPDATE_OPS)\n",
        "    with tf.control_dependencies(update_ops):\n",
        "         optimizer = tf.train.AdamOptimizer(learning_rate = learning_rate).minimize(cost,  global_step=global_step)\n",
        "         optimizer = tf.group([optimizer, update_ops])\n",
        "\n",
        "    return cost, optimizer\n",
        "\n",
        "def train_mynetwork(x_train, x_test, train_x, test_x, y_train, y_test, L_train, L_test, learning_rate_base = 0.001, beta_reg = 0.001, num_epochs = 200, minibatch_size = 32, print_cost = True):\n",
        "\n",
        "    ops.reset_default_graph()\n",
        "    tf.set_random_seed(1)\n",
        "    seed = 1\n",
        "    (m, n_x) = x_train.shape\n",
        "    (m, n_y) = y_train.shape\n",
        "    (m, n_x1) = train_x.shape\n",
        "\n",
        "    costs = []\n",
        "    costs_dev = []\n",
        "    train_acc = []\n",
        "    val_acc = []\n",
        "\n",
        "    x_in, x_in1, y_in, lap_train, isTraining = create_placeholders(n_x, n_x1, n_y)\n",
        "\n",
        "    parameters = initialize_parameters()\n",
        "\n",
        "    with tf.name_scope(\"network\"):\n",
        "         x_out, l2_loss = mynetwork(x_in, x_in1, parameters, lap_train, isTraining)\n",
        "\n",
        "    global_step = tf.Variable(0, trainable=False)\n",
        "    learning_rate = tf.train.exponential_decay(learning_rate_base, global_step, 50 * m/minibatch_size, 0.5, staircase = True)\n",
        "\n",
        "    with tf.name_scope(\"optimization\"):\n",
        "         cost, optimizer = mynetwork_optimaization(x_out, y_in, l2_loss, beta_reg, learning_rate, global_step)\n",
        "\n",
        "    with tf.name_scope(\"metrics\"):\n",
        "         joint_layerT = tf.transpose(x_out)\n",
        "         yT = tf.transpose(y_in)\n",
        "         correct_prediction = tf.equal(tf.argmax(joint_layerT), tf.argmax(yT))\n",
        "         accuracy = tf.reduce_mean(tf.cast(correct_prediction, \"float\"))\n",
        "\n",
        "    with tf.name_scope(\"con\"):\n",
        "         x_cls, y_cls, confusion = confusion_mat(x_out,y_in)\n",
        "\n",
        "    init = tf.global_variables_initializer()\n",
        "\n",
        "    with tf.Session() as sess:\n",
        "\n",
        "        sess.run(init)\n",
        "\n",
        "        # Do the training loop\n",
        "        for epoch in range(num_epochs + 1):\n",
        "            epoch_cost = 0.                       # Defines a cost related to an epoch\n",
        "            epoch_acc = 0.\n",
        "            num_minibatches = int(m / minibatch_size) # number of minibatches of size minibatch_size in the train set\n",
        "            seed = seed + 1\n",
        "            minibatches = random_mini_batches_GCN1(x_train, train_x, y_train, L_train, minibatch_size, seed)\n",
        "            for minibatch in minibatches:\n",
        "\n",
        "                # Select a minibatch\n",
        "                (batch_x, batch_x1, batch_y, batch_l) = minibatch\n",
        "                # IMPORTANT: The line that runs the graph on a minibatch.\n",
        "                # Run the session to execute the \"optimizer\" and the \"cost\", the feedict should contain a minibatch for (X,Y).\n",
        "                _, minibatch_cost, minibatch_acc = sess.run([optimizer, cost, accuracy], feed_dict={x_in: batch_x, x_in1: batch_x1, y_in: batch_y, lap_train: batch_l, isTraining: True})\n",
        "\n",
        "                epoch_cost += minibatch_cost / (num_minibatches+ 1)\n",
        "                epoch_acc += minibatch_acc / (num_minibatches + 1)\n",
        "\n",
        "\n",
        "            if print_cost == True and (epoch) % 50 == 0:\n",
        "                features, epoch_cost_dev, epoch_acc_dev = sess.run([x_out, cost, accuracy], feed_dict={x_in: x_test, x_in1: test_x, y_in: y_test, lap_train: L_test, isTraining: False})\n",
        "                print (\"epoch %i: Train_loss: %f, Val_loss: %f, Train_acc: %f, Val_acc: %f\" % (epoch, epoch_cost, epoch_cost_dev, epoch_acc, epoch_acc_dev))\n",
        "\n",
        "            if print_cost == True and epoch % 5 == 0:\n",
        "                costs.append(epoch_cost)\n",
        "                train_acc.append(epoch_acc)\n",
        "                costs_dev.append(epoch_cost_dev)\n",
        "                val_acc.append(epoch_acc_dev)\n",
        "\n",
        "            if print_cost == True and epoch == 200:\n",
        "                # con_mat =\n",
        "                x, y, confusion = sess.run([x_cls, y_cls, confusion], feed_dict={x_in: x_test, x_in1: test_x, y_in: y_test, lap_train: L_test, isTraining: False})\n",
        "\n",
        "\n",
        "        # plot the cost\n",
        "        plt.plot(np.squeeze(costs))\n",
        "        plt.plot(np.squeeze(costs_dev))\n",
        "        plt.ylabel('cost')\n",
        "        plt.xlabel('iterations (per tens)')\n",
        "        plt.title(\"Learning rate =\" + str(learning_rate))\n",
        "        plt.show()\n",
        "        # plot the accuracy\n",
        "        plt.plot(np.squeeze(train_acc))\n",
        "        plt.plot(np.squeeze(val_acc))\n",
        "        plt.ylabel('accuracy')\n",
        "        plt.xlabel('iterations (per tens)')\n",
        "        plt.title(\"Learning rate =\" + str(learning_rate))\n",
        "        plt.show()\n",
        "\n",
        "        # lets save the parameters in a variable\n",
        "        parameters = sess.run(parameters)\n",
        "        print (\"Parameters have been trained!\")\n",
        "\n",
        "        return parameters, val_acc, features, x, y, confusion\n"
      ]
    },
    {
      "cell_type": "code",
      "execution_count": null,
      "metadata": {
        "id": "HgJLtzTiYxyt"
      },
      "outputs": [],
      "source": [
        "X_train = scio.loadmat('HSI_CNN/X_train.mat')\n",
        "X_test = scio.loadmat('HSI_CNN/X_test.mat')\n",
        "Train_X = scio.loadmat('minigcn/Train_X.mat')\n",
        "TrLabel = scio.loadmat('minigcn/TrLabel.mat')\n",
        "Test_X = scio.loadmat('minigcn/Test_X.mat')\n",
        "TeLabel = scio.loadmat('minigcn/TeLabel.mat')\n",
        "Train_L = scio.loadmat('minigcn/Train_L.mat')\n",
        "Test_L = scio.loadmat('minigcn/Test_L.mat')\n",
        "\n",
        "\n",
        "\n",
        "X_train = X_train['X_train']\n",
        "X_test = X_test['X_test']\n",
        "Train_X = Train_X['Train_X']\n",
        "Test_X = Test_X['Test_X']\n",
        "TrLabel = TrLabel['TrLabel']\n",
        "TeLabel = TeLabel['TeLabel']\n",
        "\n",
        "Train_L = Train_L['Train_L']\n",
        "Test_L = Test_L['Test_L']\n",
        "\n",
        "\n",
        "TrLabel = convert_to_one_hot(TrLabel-1, 16)\n",
        "TeLabel = convert_to_one_hot(TeLabel-1, 16)\n",
        "TrLabel = TrLabel.T\n",
        "TeLabel = TeLabel.T\n",
        "\n"
      ]
    },
    {
      "cell_type": "code",
      "source": [
        "parameters, val_acc, features, x, y, confusion = train_mynetwork(Train_X, Test_X, X_train, X_test, TrLabel, TeLabel, Train_L, Test_L)\n",
        "sio.savemat('features.mat', {'features': features})"
      ],
      "metadata": {
        "colab": {
          "base_uri": "https://localhost:8080/",
          "height": 677
        },
        "id": "5-CLH2PYpjVN",
        "outputId": "7475d2cb-b996-4eae-a176-08bc0549b00f"
      },
      "execution_count": null,
      "outputs": [
        {
          "output_type": "stream",
          "name": "stdout",
          "text": [
            "epoch 0: Train_loss: 2.175365, Val_loss: 2.383822, Train_acc: 0.342315, Val_acc: 0.127081\n",
            "epoch 50: Train_loss: 0.227560, Val_loss: 0.978474, Train_acc: 1.000000, Val_acc: 0.791955\n",
            "epoch 100: Train_loss: 0.167644, Val_loss: 0.928181, Train_acc: 1.000000, Val_acc: 0.803640\n",
            "epoch 150: Train_loss: 0.133887, Val_loss: 0.902515, Train_acc: 1.000000, Val_acc: 0.800434\n",
            "epoch 200: Train_loss: 0.111781, Val_loss: 0.898054, Train_acc: 1.000000, Val_acc: 0.795885\n"
          ]
        },
        {
          "output_type": "display_data",
          "data": {
            "text/plain": [
              "<Figure size 432x288 with 1 Axes>"
            ],
            "image/png": "[encoded data removed]"
          },
          "metadata": {
            "needs_background": "light"
          }
        },
        {
          "output_type": "display_data",
          "data": {
            "text/plain": [
              "<Figure size 432x288 with 1 Axes>"
            ],
            "image/png": "[encoded data removed]"
          },
          "metadata": {
            "needs_background": "light"
          }
        },
        {
          "output_type": "stream",
          "name": "stdout",
          "text": [
            "Parameters have been trained!\n"
          ]
        }
      ]
    },
    {
      "cell_type": "code",
      "execution_count": null,
      "metadata": {
        "colab": {
          "base_uri": "https://localhost:8080/",
          "height": 663
        },
        "id": "qw9An0Ba16tI",
        "outputId": "60fd2761-67c6-4310-c2f7-205bcc3db26c"
      },
      "outputs": [
        {
          "output_type": "execute_result",
          "data": {
            "text/plain": [
              "<matplotlib.axes._subplots.AxesSubplot at 0x7fca1c986a90>"
            ]
          },
          "metadata": {},
          "execution_count": 20
        },
        {
          "output_type": "display_data",
          "data": {
            "text/plain": [
              "<Figure size 792x792 with 1 Axes>"
            ],
            "image/png": "[encoded data removed]"
          },
          "metadata": {
            "needs_background": "light"
          }
        }
      ],
      "source": [
        "import seaborn as sn\n",
        "from sklearn.metrics import confusion_matrix\n",
        "plt.figure(figsize = (11,11))\n",
        "sn.heatmap(confusion, square=True, annot=True, fmt='d', cbar=False)"
      ]
    },
    {
      "cell_type": "code",
      "execution_count": null,
      "metadata": {
        "colab": {
          "base_uri": "https://localhost:8080/"
        },
        "id": "LEOm4owF2NMJ",
        "outputId": "addf1b6d-e1fd-45cf-d419-e5c59f8196bb"
      },
      "outputs": [
        {
          "output_type": "execute_result",
          "data": {
            "text/plain": [
              "0.7684312433786025"
            ]
          },
          "metadata": {},
          "execution_count": 21
        }
      ],
      "source": [
        "from sklearn.metrics import cohen_kappa_score\n",
        "cohen_kappa_score(y, x)"
      ]
    },
    {
      "cell_type": "code",
      "source": [
        "from sklearn.metrics import classification_report\n",
        "target_names = ['1', '2', '3', '4', '5', '6', '7', '8', '9', '10', '11', '12', '13', '14', '15', '16']\n",
        "print(classification_report(y, x, target_names=target_names, digits=4))"
      ],
      "metadata": {
        "colab": {
          "base_uri": "https://localhost:8080/"
        },
        "id": "8RxG9XYrHM7T",
        "outputId": "e3fa6e55-bd30-4b25-fe6a-b96ea5d182ac"
      },
      "execution_count": null,
      "outputs": [
        {
          "output_type": "stream",
          "name": "stdout",
          "text": [
            "              precision    recall  f1-score   support\n",
            "\n",
            "           1     0.7092    0.7840    0.7447      1384\n",
            "           2     0.6038    0.8087    0.6914       784\n",
            "           3     0.5432    0.9565    0.6929       184\n",
            "           4     0.8954    0.9575    0.9254       447\n",
            "           5     0.9839    0.9641    0.9739       697\n",
            "           6     0.9733    0.9954    0.9842       439\n",
            "           7     0.7459    0.6939    0.7190       918\n",
            "           8     0.8342    0.6514    0.7315      2418\n",
            "           9     0.7298    0.7518    0.7406       564\n",
            "          10     0.9253    0.9938    0.9583       162\n",
            "          11     0.9870    0.8569    0.9174      1244\n",
            "          12     0.6867    0.9364    0.7923       330\n",
            "          13     0.9000    1.0000    0.9474        45\n",
            "          14     1.0000    0.8205    0.9014        39\n",
            "          15     0.3667    1.0000    0.5366        11\n",
            "          16     0.2778    1.0000    0.4348         5\n",
            "\n",
            "    accuracy                         0.7959      9671\n",
            "   macro avg     0.7601    0.8857    0.7932      9671\n",
            "weighted avg     0.8139    0.7959    0.7978      9671\n",
            "\n"
          ]
        }
      ]
    },
    {
      "cell_type": "code",
      "execution_count": null,
      "metadata": {
        "id": "8RmsY5762SCY",
        "colab": {
          "base_uri": "https://localhost:8080/"
        },
        "outputId": "c67df0a2-080a-434a-f522-b2895ee94455"
      },
      "outputs": [
        {
          "output_type": "stream",
          "name": "stdout",
          "text": [
            "Average accuracy: 0.8857\n"
          ]
        }
      ],
      "source": [
        "from sklearn.metrics import classification_report\n",
        "target_names = ['1', '2', '3', '4', '5', '6', '7', '8', '9', '10', '11', '12', '13', '14', '15', '16']\n",
        "c_p = (classification_report(y, x, target_names=target_names, digits=4, output_dict=True))\n",
        "r = np.zeros(17)\n",
        "for key in range(1,17):\n",
        "  c = str(key)\n",
        "  r[key] = round((c_p[c]['recall']),4)\n",
        "print(\"Average accuracy:\",round((sum(r)/16),4))"
      ]
    }
  ],
  "metadata": {
    "colab": {
      "provenance": [],
      "include_colab_link": true
    },
    "kernelspec": {
      "display_name": "Python 3",
      "name": "python3"
    },
    "language_info": {
      "name": "python"
    }
  },
  "nbformat": 4,
  "nbformat_minor": 0
}